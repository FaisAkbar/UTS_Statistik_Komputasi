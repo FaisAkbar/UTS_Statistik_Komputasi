{
  "nbformat": 4,
  "nbformat_minor": 0,
  "metadata": {
    "colab": {
      "provenance": [],
      "include_colab_link": true
    },
    "kernelspec": {
      "name": "python3",
      "display_name": "Python 3"
    },
    "language_info": {
      "name": "python"
    }
  },
  "cells": [
    {
      "cell_type": "markdown",
      "metadata": {
        "id": "view-in-github",
        "colab_type": "text"
      },
      "source": [
        "<a href=\"https://colab.research.google.com/github/FaisAkbar/UTS_Statistik_Komputasi/blob/main/UTS_StatistikaKomputasi.ipynb\" target=\"_parent\"><img src=\"https://colab.research.google.com/assets/colab-badge.svg\" alt=\"Open In Colab\"/></a>"
      ]
    },
    {
      "cell_type": "markdown",
      "source": [
        "NO 1"
      ],
      "metadata": {
        "id": "qKOMMWgOxjvE"
      }
    },
    {
      "cell_type": "markdown",
      "source": [
        "### UTS STATISTIK KOMPUTASI\n",
        "### Nama : Fawaa'el Akbar Firdaus\n",
        "### No : 13\n",
        "### NIM : 2141720215\n",
        "### Github : https://github.com/FaisAkbar/UTS_Statistik_Komputasi"
      ],
      "metadata": {
        "id": "fY232WGJtBGH"
      }
    },
    {
      "cell_type": "code",
      "source": [
        "# import GoogleDrive\n",
        "from google.colab import drive\n",
        "drive.mount('/content/drives/')"
      ],
      "metadata": {
        "colab": {
          "base_uri": "https://localhost:8080/"
        },
        "id": "M4AlG2ftFmfR",
        "outputId": "3920a17f-68ef-459f-9047-c2c92a3e6117"
      },
      "execution_count": 3,
      "outputs": [
        {
          "output_type": "stream",
          "name": "stdout",
          "text": [
            "Mounted at /content/drives/\n"
          ]
        }
      ]
    },
    {
      "cell_type": "markdown",
      "source": [
        "a"
      ],
      "metadata": {
        "id": "2-ZCuiJt1iyr"
      }
    },
    {
      "cell_type": "code",
      "execution_count": 13,
      "metadata": {
        "colab": {
          "base_uri": "https://localhost:8080/"
        },
        "id": "-Fu5QBZ3ph0c",
        "outputId": "d34897e1-41f9-41ea-afbb-1be66a0ad1e6"
      },
      "outputs": [
        {
          "output_type": "stream",
          "name": "stdout",
          "text": [
            "Mean: 170.035\n",
            "Variance: 126.1588765887659\n",
            "Standard Deviation: 11.232046856595902\n"
          ]
        }
      ],
      "source": [
        "# mengimport library Pandas\n",
        "import pandas as pd\n",
        "# mengimport library Numpy dengan memberikan alias 'np'\n",
        "import numpy as np\n",
        "# mengimport library matplotlib.pyplot dengan alias 'plt' yang nantinya akan digunakan untuk melakukan visualisasi data.\n",
        "import matplotlib.pyplot as plt\n",
        "# impor library Scipy untuk melakukan perhitungan statistik dan matematika.\n",
        "import scipy\n",
        "\n",
        "# membaca file CSV dengan nama 'pop1.csv'\n",
        "# memilih kolom 'height' dari 'data' dan menyimpannya dalam variabel 'table'.\n",
        "dt = pd.read_csv(\"/content/drives/MyDrive/Colab Notebooks/pop1.csv\")\n",
        "table = dt[\"height\"]\n",
        "\n",
        "# menghitung nilai :\n",
        "# rata-rata dari kolom 'height' yang disimpan dalam variabel 'table' dan menyimpan hasilnya dalam variabel 'mean'.\n",
        "# variansi dari kolom 'height' yang disimpan dalam variabel 'table' dan menyimpan hasilnya dalam variabel 'variance'.\n",
        "# standar deviasi dari kolom 'height' yang disimpan dalam variabel 'table' dan menyimpan hasilnya dalam variabel 'std_deviation'.\n",
        "mean = table.mean()\n",
        "variance = table.var()\n",
        "std_deviation = table.std()\n",
        "\n",
        "# mencetak nilai hasil\n",
        "print(\"Mean:\", mean)\n",
        "print(\"Variance:\", variance)\n",
        "print(\"Standard Deviation:\", std_deviation)"
      ]
    },
    {
      "cell_type": "markdown",
      "source": [
        "b"
      ],
      "metadata": {
        "id": "NjyLL6Ai1j0I"
      }
    },
    {
      "cell_type": "code",
      "source": [
        "# quartile 1 (Q1) dari data yang terdapat dalam kolom 'height' yang disimpan dalam variabel 'table'\n",
        "# dengan parameter 0.25 sebagai persentil yang akan dihitung\n",
        "# method='midpoint' sebagai cara menghitung nilai persentil dan menyimpan hasilnya dalam variabel 'q1'.\n",
        "# begitu juga dengan q2 dan q3 hanya saja berbeda parameter yang digunakan sebagai persentil\n",
        "q1 = np.quantile(table, 0.25, method='midpoint')\n",
        "q2 = np.quantile(table, 0.5, method='midpoint')\n",
        "q3 = np.quantile(table, 0.75, method='midpoint')\n",
        "\n",
        "# mencetak hasil Q1, Q2, Q3\n",
        "print(\"Q1:\", q1)\n",
        "print(\"Q2:\", q2)\n",
        "print(\"Q3:\", q3)"
      ],
      "metadata": {
        "colab": {
          "base_uri": "https://localhost:8080/"
        },
        "id": "iLNd540wqeTM",
        "outputId": "e8c65993-6625-45fa-b8c8-cb309dc7554d"
      },
      "execution_count": 14,
      "outputs": [
        {
          "output_type": "stream",
          "name": "stdout",
          "text": [
            "Q1: 162.0\n",
            "Q2: 170.0\n",
            "Q3: 178.0\n"
          ]
        }
      ]
    },
    {
      "cell_type": "markdown",
      "source": [
        "c"
      ],
      "metadata": {
        "id": "XljEL0SH1krX"
      }
    },
    {
      "cell_type": "code",
      "source": [
        "# mencari IQR\n",
        "IQR = q3 - q1\n",
        "# mencari batas atas dan batas bawah\n",
        "lower_bound = q1 - (1.5 * IQR)\n",
        "upper_bound = q3 - (1.5 * IQR)\n",
        "\n",
        "# Membuat list kosong\n",
        "lower = []\n",
        "upper = []\n",
        "# menentukan outliers\n",
        "for x in dt[\"height\"]:\n",
        "  if x < lower_bound:\n",
        "    lower.append(x)\n",
        "\n",
        "for x in dt[\"height\"]:\n",
        "  if x < upper_bound:\n",
        "    upper.append(x)\n",
        "a = min(lower)\n",
        "b = max(upper)\n",
        "\n",
        "# mencetak hasil\n",
        "print(\"IQR: \", IQR)\n",
        "print(\"Batas bawah: \", lower_bound)\n",
        "print(\"Batas atas: \", upper_bound)\n",
        "print(\"Outlier bawah: \", a)\n",
        "print(\"Outlier atas: \", b)"
      ],
      "metadata": {
        "colab": {
          "base_uri": "https://localhost:8080/"
        },
        "id": "myR9H4DTrKZx",
        "outputId": "7eda545b-bf93-4faa-f27b-349f0e2e4569"
      },
      "execution_count": 17,
      "outputs": [
        {
          "output_type": "stream",
          "name": "stdout",
          "text": [
            "IQR:  16.0\n",
            "Batas bawah:  138.0\n",
            "Batas atas:  154.0\n",
            "Outlier bawah:  117\n",
            "Outlier atas:  153\n"
          ]
        }
      ]
    },
    {
      "cell_type": "markdown",
      "source": [
        "No 2"
      ],
      "metadata": {
        "id": "OLXTHmrgxnAI"
      }
    },
    {
      "cell_type": "markdown",
      "source": [
        "a"
      ],
      "metadata": {
        "id": "DCQgEACT1meD"
      }
    },
    {
      "cell_type": "code",
      "source": [
        "# membaca file CSV dengan nama 'pop1.csv'\n",
        "# memilih kolom 'height' dari 'data' dan menyimpannya dalam variabel 'table'.\n",
        "data = pd.read_csv('/content/drives/MyDrive/Colab Notebooks/pop1.csv')\n",
        "table = data['height']\n",
        "\n",
        "# memberi judul pada boxplot\n",
        "plt.title('Boxplot Height')\n",
        "# membuat boxplot dari data yang terdapat dalam variabel 'table'\n",
        "# lalu menampilkan plot yang telah dibuat sebelumnya.\n",
        "plt.boxplot(table)\n",
        "plt.show()"
      ],
      "metadata": {
        "colab": {
          "base_uri": "https://localhost:8080/",
          "height": 452
        },
        "id": "zqF_1a6ksL3A",
        "outputId": "b9090137-65ff-4725-93c1-f7d7471c4aa0"
      },
      "execution_count": 33,
      "outputs": [
        {
          "output_type": "display_data",
          "data": {
            "text/plain": [
              "<Figure size 640x480 with 1 Axes>"
            ],
            "image/png": "[encoded data removed]"
          },
          "metadata": {}
        }
      ]
    },
    {
      "cell_type": "markdown",
      "source": [
        "b"
      ],
      "metadata": {
        "id": "VmA176T31nVK"
      }
    },
    {
      "cell_type": "code",
      "source": [
        "# membuat judul pada plot histogram\n",
        "plt.title('Histogram Height')\n",
        "# membuat histogram dari data yang terdapat dalam variabel 'table'\n",
        "# menampilkan plot yang telah dibuat sebelumnya.\n",
        "plt.hist(table, bins=100)\n",
        "plt.show()"
      ],
      "metadata": {
        "colab": {
          "base_uri": "https://localhost:8080/",
          "height": 452
        },
        "id": "cSkOsVJasQTJ",
        "outputId": "2d1142c8-0742-4117-eaa9-fe4eca22b1ee"
      },
      "execution_count": 34,
      "outputs": [
        {
          "output_type": "display_data",
          "data": {
            "text/plain": [
              "<Figure size 640x480 with 1 Axes>"
            ],
            "image/png": "[encoded data removed]"
          },
          "metadata": {}
        }
      ]
    },
    {
      "cell_type": "markdown",
      "source": [
        "No 3"
      ],
      "metadata": {
        "id": "HKoLMWQCxpvF"
      }
    },
    {
      "cell_type": "markdown",
      "source": [
        "a"
      ],
      "metadata": {
        "id": "0AHi2H5S1o23"
      }
    },
    {
      "cell_type": "code",
      "source": [
        "# import fungsi norm dari library SciPy yang berfungsi untuk menghitung distribusi normal\n",
        "from scipy.stats import norm\n",
        "\n",
        "# mengisi variable mean\n",
        "mean = 170.035\n",
        "# mengisi variable std\n",
        "std = 11.232\n",
        "\n",
        "# Menghitung nilai z-score\n",
        "z_score = (175 - mean) / std\n",
        "# mencetak nilai z-score dengan format bilangan pecahan 2 angka di belakang koma\n",
        "print(\"Z-score untuk tinggi badan > 175 cm : \", \"%.2f\" % z_score)"
      ],
      "metadata": {
        "id": "o9ZKaubTy7Cy",
        "colab": {
          "base_uri": "https://localhost:8080/"
        },
        "outputId": "2594513e-28b3-4dd3-cc92-3e863a69d39f"
      },
      "execution_count": 21,
      "outputs": [
        {
          "output_type": "stream",
          "name": "stdout",
          "text": [
            "Z-score untuk tinggi badan > 175 cm :  0.44\n"
          ]
        }
      ]
    },
    {
      "cell_type": "markdown",
      "source": [
        "b"
      ],
      "metadata": {
        "id": "LpyDYiLH1ppw"
      }
    },
    {
      "cell_type": "code",
      "source": [
        "#menentukan nilai batasan untuk tinggi badan\n",
        "n = 175\n",
        "\n",
        "#membuat filter pada kolom height \n",
        "dt_filter = table[table > n]\n",
        "#menghitung peluang\n",
        "peluang = len(dt_filter) / len(table)\n",
        "\n",
        "# mencetak hasil\n",
        "print(\"Total orang dengan tinggi > 175cm : \", len(dt_filter))\n",
        "print(\"peluang orang dengan tinggi > 175 : \", peluang)"
      ],
      "metadata": {
        "colab": {
          "base_uri": "https://localhost:8080/"
        },
        "id": "_Yhk6VH3xiXc",
        "outputId": "48d0c657-b4c1-4878-d392-51308f993a50"
      },
      "execution_count": 25,
      "outputs": [
        {
          "output_type": "stream",
          "name": "stdout",
          "text": [
            "Total orang dengan tinggi > 175cm :  31733\n",
            "peluang orang dengan tinggi > 175 :  0.31733\n"
          ]
        }
      ]
    },
    {
      "cell_type": "markdown",
      "source": [
        "No 4"
      ],
      "metadata": {
        "id": "u4QrTIYjxrA4"
      }
    },
    {
      "cell_type": "markdown",
      "source": [
        "a"
      ],
      "metadata": {
        "id": "WvRZ5OQe1qvJ"
      }
    },
    {
      "cell_type": "code",
      "source": [
        "# membaca file CSV 'pop1.csv'\n",
        "dt = pd.read_csv('/content/drives/MyDrive/Colab Notebooks/pop1.csv')\n",
        "# menghitung jumlah baris dalam DataFrame 'df' yang memiliki nilai kolom 'sex' bernilai 'MALE'\n",
        "jumlah_male = dt[dt['sex'] == 'MALE'].count()[0]\n",
        "# menghitung jumlah baris dalam DataFrame 'df' yang memiliki nilai kolom 'sex' bernilai 'FEMALE'\n",
        "jumlah_female = dt[dt['sex'] == 'FEMALE'].count()[0]\n",
        "# menghitung jumlah baris dalam DataFrame 'df'\n",
        "jumlah_total = dt.count()[0]\n",
        "\n",
        "# menghitung peluang data yang memiliki nilai kolom 'sex' sama dengan 'MALE' dan 'FEMALE'\n",
        "peluang_male = jumlah_male / jumlah_total\n",
        "peluang_female = jumlah_female / jumlah_total\n",
        "\n",
        "# mencetak hasil\n",
        "print('Total Data: ',jumlah_total)\n",
        "print('Total MALE: ',jumlah_male)\n",
        "print('Peluang MALE:', peluang_male)\n",
        "print('Total FEMALE: ',jumlah_female)\n",
        "print('Peluang FEMALE:', peluang_female)"
      ],
      "metadata": {
        "colab": {
          "base_uri": "https://localhost:8080/"
        },
        "id": "RYwrHwH2vk3U",
        "outputId": "0448665e-2c11-40c7-c717-64b4aeeffbec"
      },
      "execution_count": 31,
      "outputs": [
        {
          "output_type": "stream",
          "name": "stdout",
          "text": [
            "Total Data:  100000\n",
            "Total MALE:  51112\n",
            "Peluang MALE: 0.51112\n",
            "Total FEMALE:  48888\n",
            "Peluang FEMALE: 0.48888\n"
          ]
        }
      ]
    },
    {
      "cell_type": "markdown",
      "source": [
        "b"
      ],
      "metadata": {
        "id": "pPTWVZY81rjZ"
      }
    },
    {
      "cell_type": "markdown",
      "source": [
        "Peluang terpilihnya 3 laki-laki dari 10 orang yang dipilih secara acak dapat dihitung dengan menggunakan rumus peluang binomial :\n",
        "\n",
        "*   n = 10 (jumlah percobaan)\n",
        "*   k = 3 (jumlah keberhasilan)\n",
        "*   p = 0.5 (peluang keberhasilan dalam satu percobaan)\n",
        "*   q = 0.5 (peluang kegagalan dalam satu percobaan)\n",
        "\n",
        "Maka peluang terpilihnya 3 laki-laki dari 10 orang yang dipilih secara acak adalah :\n",
        "\n",
        "menggunakan rumus :\n",
        "*   P(X = 3) = C(n,k) * p^k * (1-p)^n-k\n",
        "\n",
        "sehingga, menghasilkan:\n",
        "\n",
        "**P(X = 3) = C(10,3) * (0,5)^3 * (0,5)^10-3**\n",
        "\n",
        "**P(X = 3) = C(10,3) * (0,5)^3 * (0,5)^7**\n",
        "\n",
        "**P(X = 3) = 120 * 0,125 * 0,0078125**\n",
        "\n",
        "**P(X = 3) = 0,1171875**\n",
        "\n",
        "Sehingga peluang terpilihnya 3 laki-laki dari 10 orang yang dipilih secara acak adalah sekitar 0.117 atau 11.7%."
      ],
      "metadata": {
        "id": "cjhZQ6hSyMRy"
      }
    },
    {
      "cell_type": "markdown",
      "source": [
        "c"
      ],
      "metadata": {
        "id": "vg8KM3hm1sdf"
      }
    },
    {
      "cell_type": "code",
      "source": [
        "# Mendefinisikan nilai n sebagai 10, yang merupakan jumlah percobaan\n",
        "n = 10\n",
        "# Mendefinisikan nilai p sebagai 0,5, yang merupakan probabilitas keberhasilan pada setiap percobaan\n",
        "p = 0.5\n",
        "\n",
        "# Membuat list x yang berisi bilangan bulat dari 0 hingga n+1\n",
        "x = range(n+1)\n",
        "# Membuat list y yang berisi peluang kejadian dari setiap kemungkinan jumlah laki-laki yang terpilih dalam n percobaan\n",
        "y = [scipy.special.comb(n, i) * p**i * (1-p)**(n-i) for i in x]\n",
        "\n",
        "# Membuat bar chart dengan sumbu x berisi list x dan sumbu y berisi list y.\n",
        "plt.bar(x, y)\n",
        "# Memberikan label pada sumbu x\n",
        "plt.xlabel('Jumlah Laki-laki')\n",
        "# Memberikan label pada sumbu y\n",
        "plt.ylabel('Peluang')\n",
        "# Memberikan judul pada grafik\n",
        "plt.title('Distribusi Terpilihnya Laki-laki')\n",
        "# Menampilkan grafik\n",
        "plt.show()"
      ],
      "metadata": {
        "colab": {
          "base_uri": "https://localhost:8080/",
          "height": 472
        },
        "id": "1-5u8YCiyN8M",
        "outputId": "efdac499-7911-427c-baec-f7b332b8ed7b"
      },
      "execution_count": 32,
      "outputs": [
        {
          "output_type": "display_data",
          "data": {
            "text/plain": [
              "<Figure size 640x480 with 1 Axes>"
            ],
            "image/png": "[encoded data removed]"
          },
          "metadata": {}
        }
      ]
    }
  ]
}